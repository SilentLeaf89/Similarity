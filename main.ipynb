{
 "cells": [
  {
   "cell_type": "markdown",
   "metadata": {},
   "source": [
    "# Photo and Video"
   ]
  },
  {
   "cell_type": "code",
   "execution_count": 1,
   "metadata": {},
   "outputs": [
    {
     "name": "stdout",
     "output_type": "stream",
     "text": [
      "\n",
      "image 1/1 /home/monk/Practicum/Similarity/original_photo/1.jpg: 480x640 1 person, 1 handbag, 1 tie, 1 chair, 54.0ms\n",
      "Speed: 1.1ms preprocess, 54.0ms inference, 41.9ms postprocess per image at shape (1, 3, 480, 640)\n"
     ]
    }
   ],
   "source": [
    "# очистка заднего фона на изображении перед выполнением сравнения\n",
    "from src.clear import clear_image_background\n",
    "\n",
    "file = \"./original_photo/1.jpg\"\n",
    "clear_image_background(file)"
   ]
  },
  {
   "cell_type": "code",
   "execution_count": 2,
   "metadata": {},
   "outputs": [
    {
     "name": "stderr",
     "output_type": "stream",
     "text": [
      "/home/monk/Practicum/Similarity/.venv/lib/python3.10/site-packages/transformers/models/vit/feature_extraction_vit.py:28: FutureWarning: The class ViTFeatureExtractor is deprecated and will be removed in version 5 of Transformers. Please use ViTImageProcessor instead.\n",
      "  warnings.warn(\n"
     ]
    },
    {
     "data": {
      "text/plain": [
       "0.7734463810920715"
      ]
     },
     "execution_count": 2,
     "metadata": {},
     "output_type": "execute_result"
    }
   ],
   "source": [
    "# простая проверка cosine_similarity между двумя изображениями\n",
    "\n",
    "import cv2\n",
    "\n",
    "from src.similarity import similarity\n",
    "\n",
    "image_1 = cv2.imread(\"./masked_photo/1_mask_0.png\")\n",
    "image_2 = cv2.imread(\"./original_photo/1.jpg\")\n",
    "\n",
    "similarity(image_1, image_2)"
   ]
  },
  {
   "cell_type": "markdown",
   "metadata": {},
   "source": [
    "# Text"
   ]
  },
  {
   "cell_type": "code",
   "execution_count": 2,
   "metadata": {},
   "outputs": [
    {
     "data": {
      "text/plain": [
       "tensor([[0.1807, 0.0679, 0.7515]])"
      ]
     },
     "execution_count": 2,
     "metadata": {},
     "output_type": "execute_result"
    }
   ],
   "source": [
    "#\n",
    "\n",
    "# Labels\n",
    "# 0: NEUTRAL\n",
    "# 1: POSITIVE\n",
    "# 2: NEGATIVE\n",
    "\n",
    "\n",
    "import torch\n",
    "from transformers import AutoModelForSequenceClassification\n",
    "from transformers import BertTokenizerFast\n",
    "\n",
    "tokenizer = BertTokenizerFast.from_pretrained(\"blanchefort/rubert-base-cased-sentiment\")\n",
    "model = AutoModelForSequenceClassification.from_pretrained(\n",
    "    \"blanchefort/rubert-base-cased-sentiment\", return_dict=True\n",
    ")\n",
    "\n",
    "\n",
    "@torch.no_grad()\n",
    "def predict(text):\n",
    "    inputs = tokenizer(\n",
    "        text, max_length=512, padding=True, truncation=True, return_tensors=\"pt\"\n",
    "    )\n",
    "    outputs = model(**inputs)\n",
    "    predicted = torch.nn.functional.softmax(outputs.logits, dim=1)\n",
    "    # predicted = torch.argmax(predicted, dim=1).numpy()\n",
    "    return predicted\n",
    "\n",
    "\n",
    "text = \"Я ненавижу твою прекрасную обворожительную, чудесную, фантастическую любовь\"\n",
    "predict(text)  # probability of labels"
   ]
  },
  {
   "cell_type": "code",
   "execution_count": 3,
   "metadata": {},
   "outputs": [
    {
     "data": {
      "application/vnd.jupyter.widget-view+json": {
       "model_id": "d7e37e31997e4ab2b0a3ecc298a2078b",
       "version_major": 2,
       "version_minor": 0
      },
      "text/plain": [
       "tokenizer_config.json:   0%|          | 0.00/516 [00:00<?, ?B/s]"
      ]
     },
     "metadata": {},
     "output_type": "display_data"
    },
    {
     "data": {
      "application/vnd.jupyter.widget-view+json": {
       "model_id": "e8bc54a74ea84474a4ad1ff2b1d0d54d",
       "version_major": 2,
       "version_minor": 0
      },
      "text/plain": [
       "config.json:   0%|          | 0.00/781 [00:00<?, ?B/s]"
      ]
     },
     "metadata": {},
     "output_type": "display_data"
    },
    {
     "data": {
      "application/vnd.jupyter.widget-view+json": {
       "model_id": "b15fe536ba4c4cc3a8d2c3dd2a0b4f33",
       "version_major": 2,
       "version_minor": 0
      },
      "text/plain": [
       "sentencepiece.bpe.model:   0%|          | 0.00/5.07M [00:00<?, ?B/s]"
      ]
     },
     "metadata": {},
     "output_type": "display_data"
    },
    {
     "data": {
      "application/vnd.jupyter.widget-view+json": {
       "model_id": "54fbdfac698c4853838b711d01acdc3c",
       "version_major": 2,
       "version_minor": 0
      },
      "text/plain": [
       "tokenizer.json:   0%|          | 0.00/9.10M [00:00<?, ?B/s]"
      ]
     },
     "metadata": {},
     "output_type": "display_data"
    },
    {
     "data": {
      "application/vnd.jupyter.widget-view+json": {
       "model_id": "65709b8f46df4197bb012c09289932f5",
       "version_major": 2,
       "version_minor": 0
      },
      "text/plain": [
       "special_tokens_map.json:   0%|          | 0.00/150 [00:00<?, ?B/s]"
      ]
     },
     "metadata": {},
     "output_type": "display_data"
    },
    {
     "data": {
      "application/vnd.jupyter.widget-view+json": {
       "model_id": "ed749c237ce2477aa64004980dd44538",
       "version_major": 2,
       "version_minor": 0
      },
      "text/plain": [
       "pytorch_model.bin:   0%|          | 0.00/2.24G [00:00<?, ?B/s]"
      ]
     },
     "metadata": {},
     "output_type": "display_data"
    },
    {
     "name": "stderr",
     "output_type": "stream",
     "text": [
      "Some weights of XLMRobertaModel were not initialized from the model checkpoint at AlexKay/xlm-roberta-large-qa-multilingual-finedtuned-ru and are newly initialized: ['roberta.pooler.dense.bias', 'roberta.pooler.dense.weight']\n",
      "You should probably TRAIN this model on a down-stream task to be able to use it for predictions and inference.\n"
     ]
    },
    {
     "data": {
      "text/plain": [
       "{'В видео должно рассказываться о новых кроссовках Nikeль модели Zoom x3000': [(935.378662109375,\n",
       "   'С GReebok C1500 вы всегда будете на шаг впереди'),\n",
       "  (932.9957275390625,\n",
       "   'Это воплощение инноваций и стиля, обувь, которая переопределяет привычные представления о комфорте и функциональности'),\n",
       "  (930.1180419921875, 'Дизайн C1500 воплощает современные тенденции моды'),\n",
       "  (910.0886840820312,\n",
       "   'Верх из дышащего материала гарантирует оптимальную вентиляцию, а уникальная технология амортизации позволяет вашим ногам ощутить невероятную легкость при каждом шаге'),\n",
       "  (905.8414916992188, 'GReebok - выбор победителей'),\n",
       "  (820.012451171875,\n",
       "   'Особое внимание уделяется деталям - эргономичная стелька обеспечивает дополнительный комфорт, а резиновые вставки на подошве предотвращают скольжение, делая ходьбу безопасной даже на скользкой поверхности'),\n",
       "  (810.8298950195312,\n",
       "   'Сочетание классической черной подошвы и ярко-красного верха делает эту обувь идеальным дополнением к любому образу, будь то повседневный городской стиль или спортивный аутфит'),\n",
       "  (805.0519409179688,\n",
       "   'Открывая новые горизонты в мире обуви, наша вымышленная марка GReebok представляет вам свою новейшую модель - C1500'),\n",
       "  (774.2951049804688,\n",
       "   'Эта обувь - не просто аксессуар, это инвестиция в ваш комфорт, стиль и уверенность в себе'),\n",
       "  (759.2415771484375,\n",
       "   'Кроссовки C1500 выполнены из премиальных материалов, обеспечивая максимальную прочность и долговечность')],\n",
       " 'В положительном ключе должно быть рассказано о характеристиках или общее впечатление': [(943.0588989257812,\n",
       "   'С GReebok C1500 вы всегда будете на шаг впереди'),\n",
       "  (942.64697265625,\n",
       "   'Это воплощение инноваций и стиля, обувь, которая переопределяет привычные представления о комфорте и функциональности'),\n",
       "  (933.3729248046875, 'Дизайн C1500 воплощает современные тенденции моды'),\n",
       "  (919.8349609375,\n",
       "   'Верх из дышащего материала гарантирует оптимальную вентиляцию, а уникальная технология амортизации позволяет вашим ногам ощутить невероятную легкость при каждом шаге'),\n",
       "  (905.31591796875, 'GReebok - выбор победителей'),\n",
       "  (815.8311767578125,\n",
       "   'Особое внимание уделяется деталям - эргономичная стелька обеспечивает дополнительный комфорт, а резиновые вставки на подошве предотвращают скольжение, делая ходьбу безопасной даже на скользкой поверхности'),\n",
       "  (805.6666259765625,\n",
       "   'Сочетание классической черной подошвы и ярко-красного верха делает эту обувь идеальным дополнением к любому образу, будь то повседневный городской стиль или спортивный аутфит'),\n",
       "  (796.6165771484375,\n",
       "   'Открывая новые горизонты в мире обуви, наша вымышленная марка GReebok представляет вам свою новейшую модель - C1500'),\n",
       "  (769.1429443359375,\n",
       "   'Эта обувь - не просто аксессуар, это инвестиция в ваш комфорт, стиль и уверенность в себе'),\n",
       "  (746.7321166992188,\n",
       "   'Кроссовки C1500 выполнены из премиальных материалов, обеспечивая максимальную прочность и долговечность')]}"
      ]
     },
     "execution_count": 3,
     "metadata": {},
     "output_type": "execute_result"
    }
   ],
   "source": [
    "from transformers import AutoTokenizer, AutoModel\n",
    "import torch\n",
    "\n",
    "\n",
    "def text_similarity(\n",
    "    query: str,\n",
    "    description: str,\n",
    "    model_ckpt: str = \"sentence-transformers/all-mpnet-base-v2\",\n",
    "):\n",
    "    \"\"\"_summary_\n",
    "\n",
    "    Args:\n",
    "        query (str): _description_\n",
    "        description (str): _description_\n",
    "        model_ckpt (str, optional): _description_. Defaults to \"sentence-transformers/all-mpnet-base-v2\".\n",
    "    \"\"\"\n",
    "\n",
    "    def split_sentinces(text: str) -> list[str]:\n",
    "        result = []\n",
    "        for line in text.strip().replace(\"\\n\", \"\").split(\".\"):\n",
    "            if line:\n",
    "                result.append(line.strip())\n",
    "        return result\n",
    "\n",
    "    def mean_pooling(model_output, attention_mask):\n",
    "        token_embeddings = model_output[\n",
    "            0\n",
    "        ]  # First element of model_output contains all token embeddings\n",
    "        input_mask_expanded = (\n",
    "            attention_mask.unsqueeze(-1).expand(token_embeddings.size()).float()\n",
    "        )\n",
    "        sum_embeddings = torch.sum(token_embeddings * input_mask_expanded, 1)\n",
    "        sum_mask = torch.clamp(input_mask_expanded.sum(1), min=1e-9)\n",
    "        return sum_embeddings / sum_mask\n",
    "\n",
    "    # Encode text\n",
    "    def encode(texts: list[str] | str, tokenizer: AutoTokenizer, model: AutoModel):\n",
    "\n",
    "        # Tokenize sentences\n",
    "        encoded_input = tokenizer(\n",
    "            texts, max_length=512, padding=True, truncation=True, return_tensors=\"pt\"\n",
    "        )\n",
    "        # Compute token embeddings\n",
    "        with torch.no_grad():\n",
    "            model_output = model(**encoded_input, return_dict=True)\n",
    "\n",
    "        sentence_embeddings = mean_pooling(\n",
    "            model_output, encoded_input[\"attention_mask\"]\n",
    "        )\n",
    "        return sentence_embeddings\n",
    "\n",
    "    results = {}\n",
    "\n",
    "    docs = split_sentinces(description)\n",
    "    queries = split_sentinces(query)\n",
    "\n",
    "    tokenizer = AutoTokenizer.from_pretrained(model_ckpt)\n",
    "    model = AutoModel.from_pretrained(model_ckpt)\n",
    "\n",
    "    # Encode docs\n",
    "    doc_emb = encode(docs, tokenizer, model)\n",
    "\n",
    "    for query in queries:\n",
    "        # Encode every query\n",
    "        query_emb = encode(query, tokenizer, model)\n",
    "\n",
    "        # Compute dot score between query and all document embeddings\n",
    "        scores = torch.mm(query_emb, doc_emb.transpose(0, 1))[0].cpu().tolist()\n",
    "\n",
    "        results[query] = []\n",
    "        for doc, score in zip(scores, docs):\n",
    "            results[query].append((doc, score))\n",
    "\n",
    "        # Sort by decreasing score for each query\n",
    "        results[query] = sorted(results[query], key=lambda x: x[0], reverse=True)\n",
    "\n",
    "    return results\n",
    "\n",
    "\n",
    "query = \"\"\"В видео должно рассказываться о новых кроссовках Nikeль модели Zoom x3000. В положительном ключе должно быть рассказано о характеристиках или общее впечатление.\"\"\"\n",
    "\n",
    "description = \"\"\"\n",
    "Представляем вам новую модель обуви от всемирно известного бренда Nikeль - Zoom x3000. Это идеальное сочетание инновационного дизайна, функциональности и комфорта, созданное для людей, стремящихся к величию в любых ситуациях.\n",
    "Nikeль Zoom x3000 - это прорыв в мире спортивной обуви. Она оснащена уникальной системой амортизации Zoom Air, которая обеспечивает непревзойденную отдачу энергии при каждом шаге. Мягкий, но прочный верх из синтетического материала обеспечивает идеальную посадку, а специальные вставки для вентиляции помогают поддерживать ноги сухими и свежими.\n",
    "Дизайн Zoom x3000 привлекает внимание своей смелостью и изяществом. Яркие цвета и современные линии создают эффект движения даже в состоянии покоя. Логотип Nikeль, изящно вписанный в общее оформление, дополняет образ, подчеркивая амбиции и стремление к победе его владельца.\n",
    "\n",
    "Nikeль Zoom x3000 - это не просто обувь, это символ амбиций, стремления к совершенству и отказ от компромиссов. Это обувь для тех, кто не боится быть на виду и стремится быть на шаг впереди. В Nike Zoom x3000 вы всегда будете на вершине, независимо от того, где вы находитесь.\"\"\"\n",
    "\n",
    "\n",
    "text_similarity(\n",
    "    query, greebok, model_ckpt=\"AlexKay/xlm-roberta-large-qa-multilingual-finedtuned-ru\"\n",
    ")\n",
    "\n",
    "\n",
    "# model_ckpt=\"blanchefort/rubert-base-cased-sentiment\""
   ]
  },
  {
   "cell_type": "code",
   "execution_count": 1,
   "metadata": {},
   "outputs": [],
   "source": [
    "greebok = \"\"\"\n",
    "Открывая новые горизонты в мире обуви, наша вымышленная марка GReebok представляет вам свою новейшую модель - C1500. Это воплощение инноваций и стиля, обувь, которая переопределяет привычные представления о комфорте и функциональности.\n",
    "\n",
    "Кроссовки C1500 выполнены из премиальных материалов, обеспечивая максимальную прочность и долговечность. Верх из дышащего материала гарантирует оптимальную вентиляцию, а уникальная технология амортизации позволяет вашим ногам ощутить невероятную легкость при каждом шаге.\n",
    "\n",
    "Дизайн C1500 воплощает современные тенденции моды. Сочетание классической черной подошвы и ярко-красного верха делает эту обувь идеальным дополнением к любому образу, будь то повседневный городской стиль или спортивный аутфит.\n",
    "\n",
    "Особое внимание уделяется деталям - эргономичная стелька обеспечивает дополнительный комфорт, а резиновые вставки на подошве предотвращают скольжение, делая ходьбу безопасной даже на скользкой поверхности.\n",
    "\n",
    "С GReebok C1500 вы всегда будете на шаг впереди. Эта обувь - не просто аксессуар, это инвестиция в ваш комфорт, стиль и уверенность в себе. GReebok - выбор победителей.\n",
    "\n",
    "\"\"\""
   ]
  },
  {
   "cell_type": "code",
   "execution_count": null,
   "metadata": {},
   "outputs": [],
   "source": []
  },
  {
   "cell_type": "code",
   "execution_count": null,
   "metadata": {},
   "outputs": [],
   "source": []
  }
 ],
 "metadata": {
  "kernelspec": {
   "display_name": ".venv",
   "language": "python",
   "name": "python3"
  },
  "language_info": {
   "codemirror_mode": {
    "name": "ipython",
    "version": 3
   },
   "file_extension": ".py",
   "mimetype": "text/x-python",
   "name": "python",
   "nbconvert_exporter": "python",
   "pygments_lexer": "ipython3",
   "version": "3.10.12"
  }
 },
 "nbformat": 4,
 "nbformat_minor": 2
}
