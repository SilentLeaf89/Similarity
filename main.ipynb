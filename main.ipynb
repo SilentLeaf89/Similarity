{
 "cells": [
  {
   "cell_type": "markdown",
   "metadata": {},
   "source": [
    "# Photo and Video"
   ]
  },
  {
   "cell_type": "code",
   "execution_count": 1,
   "metadata": {},
   "outputs": [
    {
     "name": "stdout",
     "output_type": "stream",
     "text": [
      "\n",
      "image 1/1 /home/monk/Practicum/Similarity/original_photo/1.jpg: 480x640 1 person, 1 handbag, 1 tie, 1 chair, 54.0ms\n",
      "Speed: 1.1ms preprocess, 54.0ms inference, 41.9ms postprocess per image at shape (1, 3, 480, 640)\n"
     ]
    }
   ],
   "source": [
    "# очистка заднего фона на изображении перед выполнением сравнения\n",
    "from src.clear import clear_image_background\n",
    "\n",
    "file = \"./original_photo/1.jpg\"\n",
    "clear_image_background(file)"
   ]
  },
  {
   "cell_type": "code",
   "execution_count": 2,
   "metadata": {},
   "outputs": [
    {
     "name": "stderr",
     "output_type": "stream",
     "text": [
      "/home/monk/Practicum/Similarity/.venv/lib/python3.10/site-packages/transformers/models/vit/feature_extraction_vit.py:28: FutureWarning: The class ViTFeatureExtractor is deprecated and will be removed in version 5 of Transformers. Please use ViTImageProcessor instead.\n",
      "  warnings.warn(\n"
     ]
    },
    {
     "data": {
      "text/plain": [
       "0.7734463810920715"
      ]
     },
     "execution_count": 2,
     "metadata": {},
     "output_type": "execute_result"
    }
   ],
   "source": [
    "# простая проверка cosine_similarity между двумя изображениями\n",
    "\n",
    "import cv2\n",
    "\n",
    "from src.similarity import similarity\n",
    "\n",
    "image_1 = cv2.imread(\"./masked_photo/1_mask_0.png\")\n",
    "image_2 = cv2.imread(\"./original_photo/1.jpg\")\n",
    "\n",
    "similarity(image_1, image_2)"
   ]
  },
  {
   "cell_type": "markdown",
   "metadata": {},
   "source": [
    "# Text"
   ]
  },
  {
   "cell_type": "code",
   "execution_count": 2,
   "metadata": {},
   "outputs": [
    {
     "data": {
      "text/plain": [
       "tensor([[0.1807, 0.0679, 0.7515]])"
      ]
     },
     "execution_count": 2,
     "metadata": {},
     "output_type": "execute_result"
    }
   ],
   "source": [
    "#\n",
    "\n",
    "# Labels\n",
    "# 0: NEUTRAL\n",
    "# 1: POSITIVE\n",
    "# 2: NEGATIVE\n",
    "\n",
    "\n",
    "import torch\n",
    "from transformers import AutoModelForSequenceClassification\n",
    "from transformers import BertTokenizerFast\n",
    "\n",
    "tokenizer = BertTokenizerFast.from_pretrained(\"blanchefort/rubert-base-cased-sentiment\")\n",
    "model = AutoModelForSequenceClassification.from_pretrained(\n",
    "    \"blanchefort/rubert-base-cased-sentiment\", return_dict=True\n",
    ")\n",
    "\n",
    "\n",
    "@torch.no_grad()\n",
    "def predict(text):\n",
    "    inputs = tokenizer(\n",
    "        text, max_length=512, padding=True, truncation=True, return_tensors=\"pt\"\n",
    "    )\n",
    "    outputs = model(**inputs)\n",
    "    predicted = torch.nn.functional.softmax(outputs.logits, dim=1)\n",
    "    # predicted = torch.argmax(predicted, dim=1).numpy()\n",
    "    return predicted\n",
    "\n",
    "\n",
    "text = \"Я ненавижу твою прекрасную обворожительную, чудесную, фантастическую любовь\"\n",
    "predict(text)  # probability of labels"
   ]
  },
  {
   "cell_type": "code",
   "execution_count": 1,
   "metadata": {},
   "outputs": [],
   "source": [
    "query = \"\"\"В видео должно рассказываться о новых кроссовках Nikeль модели Zoomx3000. В положительном ключе должно быть рассказано о характеристиках или общее впечатление.\"\"\"\n",
    "\n",
    "nikel = \"\"\"\n",
    "Представляем вам новую модель обуви от всемирно известного бренда Nikeль - Zoomx3000. Это идеальное сочетание инновационного дизайна, функциональности и комфорта, созданное для людей, стремящихся к величию в любых ситуациях.\n",
    "Nikeль Zoomx3000 - это прорыв в мире спортивной обуви. Она оснащена уникальной системой амортизации Zoom Air, которая обеспечивает непревзойденную отдачу энергии при каждом шаге. Мягкий, но прочный верх из синтетического материала обеспечивает идеальную посадку, а специальные вставки для вентиляции помогают поддерживать ноги сухими и свежими.\n",
    "Дизайн Zoomx3000 привлекает внимание своей смелостью и изяществом. Яркие цвета и современные линии создают эффект движения даже в состоянии покоя. Логотип Nikeль, изящно вписанный в общее оформление, дополняет образ, подчеркивая амбиции и стремление к победе его владельца.\n",
    "\n",
    "Nikeль Zoomx3000 - это не просто обувь, это символ амбиций, стремления к совершенству и отказ от компромиссов. Это обувь для тех, кто не боится быть на виду и стремится быть на шаг впереди. В Nike Zoom x3000 вы всегда будете на вершине, независимо от того, где вы находитесь.\"\"\"\n",
    "\n",
    "greebok = \"\"\"\n",
    "Открывая новые горизонты в мире обуви, наша вымышленная марка GReebok представляет вам свою новейшую модель - C1500. Это воплощение инноваций и стиля, обувь, которая переопределяет привычные представления о комфорте и функциональности.\n",
    "\n",
    "Кроссовки C1500 выполнены из премиальных материалов, обеспечивая максимальную прочность и долговечность. Верх из дышащего материала гарантирует оптимальную вентиляцию, а уникальная технология амортизации позволяет вашим ногам ощутить невероятную легкость при каждом шаге.\n",
    "\n",
    "Дизайн C1500 воплощает современные тенденции моды. Сочетание классической черной подошвы и ярко-красного верха делает эту обувь идеальным дополнением к любому образу, будь то повседневный городской стиль или спортивный аутфит.\n",
    "\n",
    "Особое внимание уделяется деталям - эргономичная стелька обеспечивает дополнительный комфорт, а резиновые вставки на подошве предотвращают скольжение, делая ходьбу безопасной даже на скользкой поверхности.\n",
    "\n",
    "С GReebok C1500 вы всегда будете на шаг впереди. Эта обувь - не просто аксессуар, это инвестиция в ваш комфорт, стиль и уверенность в себе. GReebok - выбор победителей.\n",
    "\n",
    "\"\"\""
   ]
  },
  {
   "cell_type": "code",
   "execution_count": 2,
   "metadata": {},
   "outputs": [
    {
     "name": "stderr",
     "output_type": "stream",
     "text": [
      "/home/monk/Practicum/Similarity/.venv/lib/python3.10/site-packages/transformers/pipelines/token_classification.py:168: UserWarning: `grouped_entities` is deprecated and will be removed in version v5.0.0, defaulted to `aggregation_strategy=\"simple\"` instead.\n",
      "  warnings.warn(\n"
     ]
    },
    {
     "data": {
      "text/plain": [
       "{'В видео должно рассказываться о новых кроссовках Nikeль модели Zoomx3000': [(7.601027011871338,\n",
       "   'Nikeль Zoomx3000 - это прорыв в мире спортивной обуви'),\n",
       "  (7.566777229309082,\n",
       "   'Представляем вам новую модель обуви от всемирно известного бренда Nikeль - Zoomx3000'),\n",
       "  (6.987802505493164,\n",
       "   'В Nike Zoom x3000 вы всегда будете на вершине, независимо от того, где вы находитесь'),\n",
       "  (6.959738254547119,\n",
       "   'Nikeль Zoomx3000 - это не просто обувь, это символ амбиций, стремления к совершенству и отказ от компромиссов'),\n",
       "  (6.144981384277344,\n",
       "   'Дизайн Zoomx3000 привлекает внимание своей смелостью и изяществом'),\n",
       "  (5.163149833679199,\n",
       "   'Логотип Nikeль, изящно вписанный в общее оформление, дополняет образ, подчеркивая амбиции и стремление к победе его владельца'),\n",
       "  (4.241913318634033,\n",
       "   'Она оснащена уникальной системой амортизации Zoom Air, которая обеспечивает непревзойденную отдачу энергии при каждом шаге'),\n",
       "  (2.2929794788360596,\n",
       "   'Яркие цвета и современные линии создают эффект движения даже в состоянии покоя'),\n",
       "  (2.272054672241211,\n",
       "   'Мягкий, но прочный верх из синтетического материала обеспечивает идеальную посадку, а специальные вставки для вентиляции помогают поддерживать ноги сухими и свежими'),\n",
       "  (2.197871208190918,\n",
       "   'Это обувь для тех, кто не боится быть на виду и стремится быть на шаг впереди'),\n",
       "  (2.157156467437744,\n",
       "   'Это идеальное сочетание инновационного дизайна, функциональности и комфорта, созданное для людей, стремящихся к величию в любых ситуациях')],\n",
       " 'В положительном ключе должно быть рассказано о характеристиках или общее впечатление': [(4.01172399520874,\n",
       "   'Яркие цвета и современные линии создают эффект движения даже в состоянии покоя'),\n",
       "  (4.009607315063477,\n",
       "   'Мягкий, но прочный верх из синтетического материала обеспечивает идеальную посадку, а специальные вставки для вентиляции помогают поддерживать ноги сухими и свежими'),\n",
       "  (3.8466856479644775,\n",
       "   'Это обувь для тех, кто не боится быть на виду и стремится быть на шаг впереди'),\n",
       "  (3.5728583335876465,\n",
       "   'Это идеальное сочетание инновационного дизайна, функциональности и комфорта, созданное для людей, стремящихся к величию в любых ситуациях'),\n",
       "  (3.3221826553344727,\n",
       "   'Логотип Nikeль, изящно вписанный в общее оформление, дополняет образ, подчеркивая амбиции и стремление к победе его владельца'),\n",
       "  (3.055644989013672,\n",
       "   'Она оснащена уникальной системой амортизации Zoom Air, которая обеспечивает непревзойденную отдачу энергии при каждом шаге'),\n",
       "  (2.6325371265411377,\n",
       "   'Дизайн Zoomx3000 привлекает внимание своей смелостью и изяществом'),\n",
       "  (2.5412614345550537,\n",
       "   'В Nike Zoom x3000 вы всегда будете на вершине, независимо от того, где вы находитесь'),\n",
       "  (2.2019171714782715,\n",
       "   'Представляем вам новую модель обуви от всемирно известного бренда Nikeль - Zoomx3000'),\n",
       "  (2.1363468170166016,\n",
       "   'Nikeль Zoomx3000 - это прорыв в мире спортивной обуви'),\n",
       "  (1.9286805391311646,\n",
       "   'Nikeль Zoomx3000 - это не просто обувь, это символ амбиций, стремления к совершенству и отказ от компромиссов')]}"
      ]
     },
     "execution_count": 2,
     "metadata": {},
     "output_type": "execute_result"
    }
   ],
   "source": [
    "from src.similarity import text_similarity\n",
    "\n",
    "text_similarity(query, nikel)"
   ]
  },
  {
   "cell_type": "code",
   "execution_count": 3,
   "metadata": {},
   "outputs": [
    {
     "data": {
      "text/plain": [
       "0"
      ]
     },
     "execution_count": 3,
     "metadata": {},
     "output_type": "execute_result"
    }
   ],
   "source": [
    "from src.similarity import text_similarity\n",
    "\n",
    "text_similarity(query, greebok)"
   ]
  }
 ],
 "metadata": {
  "kernelspec": {
   "display_name": ".venv",
   "language": "python",
   "name": "python3"
  },
  "language_info": {
   "codemirror_mode": {
    "name": "ipython",
    "version": 3
   },
   "file_extension": ".py",
   "mimetype": "text/x-python",
   "name": "python",
   "nbconvert_exporter": "python",
   "pygments_lexer": "ipython3",
   "version": "3.10.12"
  }
 },
 "nbformat": 4,
 "nbformat_minor": 2
}
